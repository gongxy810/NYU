{
 "cells": [
  {
   "cell_type": "markdown",
   "metadata": {},
   "source": [
    "# CS-GY 6313 / CUSP-GX 6006: Data Visualization - Spring '24\n",
    "# Homework #1"
   ]
  },
  {
   "cell_type": "code",
   "execution_count": null,
   "metadata": {},
   "outputs": [],
   "source": [
    "import numpy as np\n",
    "import matplotlib.pyplot as plt\n",
    "from scipy.interpolate import griddata\n",
    "import matplotlib.colors\n",
    "import pandas as pd\n",
    "from scipy.io import wavfile"
   ]
  },
  {
   "cell_type": "markdown",
   "metadata": {},
   "source": [
    "## Part A: Matrix Transformations (5 points):"
   ]
  },
  {
   "cell_type": "code",
   "execution_count": null,
   "metadata": {},
   "outputs": [],
   "source": [
    "####### TODO: PERFORM THE MATRIX TRANSFORMATION HERE ######\n",
    "\n",
    "# You can modify this point (3,4) to better fit your algorithm.\n",
    "original_point = [3, 4]\n"
   ]
  },
  {
   "cell_type": "markdown",
   "metadata": {},
   "source": [
    "## Part B: Color Map (10 points):"
   ]
  },
  {
   "cell_type": "code",
   "execution_count": null,
   "metadata": {},
   "outputs": [],
   "source": [
    "# ----------------------- #\n",
    "# DO NOT MODIFY THIS CODE #\n",
    "# ----------------------- #\n",
    "\n",
    "# We read the data as a CSV file\n",
    "url = \"./datasets/height.csv\"\n",
    "data = pd.read_csv(url, delim_whitespace=True, header=None).values    \n",
    "\n",
    "# Getting the raw column data as `Long`, `Lat`, and `Elev`\n",
    "Long = data[:,0]; Lat = data[:,1]; Elev = data[:,2];\n",
    "\n",
    "tl = 5;\n",
    "tw = 2;\n",
    "lw = 3;\n",
    "S = 30\n",
    "pts=100000;\n",
    "\n",
    "# `np.linspace` attempts to create a certain # of points when provided a minimum, a maximum, and an expected # of points\n",
    "# We generate a meshgrid that creates `np.sqrt(pts)` values between the minimum and maximum possible values \n",
    "# along the x-axis (Long) and y-axis (Lat).\n",
    "[x,y] =np.meshgrid(\n",
    "  np.linspace( min(Long), max(Long), int(np.sqrt(pts)) ),\n",
    "  np.linspace( min(Lat), max(Lat), int(np.sqrt(pts)) )\n",
    ")\n",
    "\n",
    "# This code interpolates the original datasets (Long, Lat) and their corresponding elevations (Elev) along the \n",
    "# coordinates provided by (x,y)\n",
    "z = griddata((Long, Lat), Elev, (x, y), method='linear')\n",
    "\n",
    "# We flatten all the data from a 2D to 1D representation\n",
    "x = np.matrix.flatten(x)\n",
    "y = np.matrix.flatten(y)\n",
    "z = np.matrix.flatten(z)"
   ]
  },
  {
   "cell_type": "code",
   "execution_count": null,
   "metadata": {},
   "outputs": [],
   "source": [
    "####### TODO: MODIFY THIS PART OF THE CODE ######\n",
    "\n",
    "def color_map(z):\n",
    "\n",
    "    colors = np.zeros((np.size(z),3))\n",
    "\n",
    "    return colors\n"
   ]
  },
  {
   "cell_type": "code",
   "execution_count": null,
   "metadata": {},
   "outputs": [],
   "source": [
    "# ----------------------- #\n",
    "# DO NOT MODIFY THIS CODE #\n",
    "# ----------------------- #\n",
    "plt.scatter(x,y,s=1,c=color_map(z))\n",
    "plt.savefig(\"part_b_result.png\", bbox_inches =\"tight\", pad_inches = 0)\n",
    "plt.show()"
   ]
  },
  {
   "cell_type": "markdown",
   "metadata": {},
   "source": [
    "## BONUS QUESTION: Color Frequency Analysis with Fourier Transforms (2 points):"
   ]
  },
  {
   "cell_type": "code",
   "execution_count": null,
   "metadata": {},
   "outputs": [],
   "source": [
    "# ----------------------- #\n",
    "# DO NOT MODIFY THIS CODE #\n",
    "# ----------------------- #\n",
    "\n",
    "# The input signal has been generated with a 5-second duration, sampled at 44100 Hz\n",
    "sample_rate, data = wavfile.read('./datasets/signal.wav')\n",
    "duration = len(data)/sample_rate\n",
    "\n",
    "# Plot the signal, only sampling the first 1000 data points for easy viewability\n",
    "plt.plot(data[:1000], 'b')\n",
    "plt.xlabel('Samples')\n",
    "plt.ylabel('Amplitude')\n",
    "plt.show()"
   ]
  },
  {
   "cell_type": "code",
   "execution_count": null,
   "metadata": {},
   "outputs": [],
   "source": [
    "####### TODO: MODIFY THIS PART OF THE CODE ######\n",
    "\n",
    "def fourier_transform(data, sample_rate, duration):\n",
    "    \n",
    "    xf = np.arange(400,700,1)\n",
    "    yf = np.zeros(len(xf))\n",
    "\n",
    "    return xf, yf"
   ]
  },
  {
   "cell_type": "code",
   "execution_count": null,
   "metadata": {},
   "outputs": [],
   "source": [
    "# ----------------------- #\n",
    "# DO NOT MODIFY THIS CODE #\n",
    "# ----------------------- #\n",
    "\n",
    "xf, yf = fourier_transform(data, sample_rate, duration)\n",
    "plt.plot(xf, np.abs(yf))\n",
    "plt.savefig(\"bonus_result.png\", bbox_inches =\"tight\", pad_inches = 0)\n",
    "plt.show()"
   ]
  },
  {
   "cell_type": "code",
   "execution_count": null,
   "metadata": {},
   "outputs": [],
   "source": []
  }
 ],
 "metadata": {
  "kernelspec": {
   "display_name": "Python 3",
   "language": "python",
   "name": "python3"
  },
  "language_info": {
   "codemirror_mode": {
    "name": "ipython",
    "version": 3
   },
   "file_extension": ".py",
   "mimetype": "text/x-python",
   "name": "python",
   "nbconvert_exporter": "python",
   "pygments_lexer": "ipython3",
   "version": "3.10.9"
  }
 },
 "nbformat": 4,
 "nbformat_minor": 2
}
