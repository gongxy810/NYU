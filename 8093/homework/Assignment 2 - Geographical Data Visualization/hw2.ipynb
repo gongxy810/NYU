{
 "cells": [
  {
   "cell_type": "markdown",
   "metadata": {},
   "source": [
    "# CS-GY 6313 / CUSP-GX 6006: Data Visualization - Spring '24\n",
    "# Homework #2"
   ]
  },
  {
   "cell_type": "code",
   "execution_count": null,
   "metadata": {
    "colab": {
     "base_uri": "https://localhost:8080/",
     "height": 1000
    },
    "id": "5Hn3rCs0b3M_",
    "outputId": "b79bc1d2-8ce2-4583-ab6b-8e865e66d3f6"
   },
   "outputs": [],
   "source": [
    "!pip install pandas\n",
    "!pip install geopandas\n",
    "!pip install geoplot\n",
    "!pip install pyogrio"
   ]
  },
  {
   "cell_type": "code",
   "execution_count": null,
   "metadata": {
    "id": "lRgIbwXBJrNj"
   },
   "outputs": [],
   "source": [
    "import pandas as pd\n",
    "import geopandas\n",
    "import geoplot\n",
    "import matplotlib.pyplot as plt"
   ]
  },
  {
   "cell_type": "markdown",
   "metadata": {},
   "source": [
    "## Data Pre-Processing (3/15 points)"
   ]
  },
  {
   "cell_type": "code",
   "execution_count": null,
   "metadata": {
    "id": "vlMpOMEG6XP_"
   },
   "outputs": [],
   "source": [
    "# ----------------------- #\n",
    "# DO NOT MODIFY THIS CODE #\n",
    "# ----------------------- #\n",
    "\n",
    "trips_df = pd.read_csv('./datasets/202007-divvy-tripdata.csv')\n",
    "community_df = geopandas.read_file('./datasets/chicago-community-areas.geojson')\n",
    "stations_df = pd.read_csv('./datasets/station-locations.csv')"
   ]
  },
  {
   "cell_type": "markdown",
   "metadata": {},
   "source": [
    "### Bike Trip Pre-processing (1 point)"
   ]
  },
  {
   "cell_type": "code",
   "execution_count": null,
   "metadata": {
    "id": "r16i3E_799xZ"
   },
   "outputs": [],
   "source": [
    "\"\"\"\n",
    "TODO:\n",
    "Within the bike trip data that we loaded (`trips_df`), get rid of missing (`NaN`) \n",
    "start and end station ids, and convert those columns to integer columns. \n",
    "Make sure the modified dataframe is referenced as `trips_pr_df`.\n",
    "\"\"\"\n",
    "\n",
    "trips_pr_df = None\n"
   ]
  },
  {
   "cell_type": "markdown",
   "metadata": {},
   "source": [
    "### Community Areas Pre-processing (1 point)"
   ]
  },
  {
   "cell_type": "code",
   "execution_count": null,
   "metadata": {},
   "outputs": [],
   "source": [
    "\"\"\"\n",
    "TODO:\n",
    "Within the geojson data for the Chicago community areas (`community_df`), rename the \n",
    "column `area_numbe` to `area_number`, and convert that column to an integer \n",
    "column. Make sure to reference the modified geojson data as `community_pr`.\n",
    "\"\"\"\n",
    "\n",
    "community_pr_df = None\n"
   ]
  },
  {
   "cell_type": "markdown",
   "metadata": {},
   "source": [
    "### Stations Pre-processing (1 point)"
   ]
  },
  {
   "cell_type": "code",
   "execution_count": null,
   "metadata": {},
   "outputs": [],
   "source": [
    "\"\"\"\n",
    "TODO:\n",
    "Within the bike station location data (`stations_df`), convert it to a \n",
    "`GeoDataFrame` and set its geometry to the point specified by the longitude \n",
    "and latitude pair. Make sure to reference the modified data as \n",
    "`stations_pr_df`.\n",
    "\"\"\"\n",
    "\n",
    "stations_pr_df = None\n"
   ]
  },
  {
   "cell_type": "markdown",
   "metadata": {},
   "source": [
    "## Geographical Visualization (12/15 points)"
   ]
  },
  {
   "cell_type": "markdown",
   "metadata": {},
   "source": [
    "### Spatial Join (2 points)"
   ]
  },
  {
   "cell_type": "code",
   "execution_count": null,
   "metadata": {},
   "outputs": [],
   "source": [
    "\"\"\"\n",
    "TODO:\n",
    "Given points from station locations, we want to find out which \n",
    "community areas those points are in. This can be accomplished \n",
    "using an `sjoin` (https://geopandas.org/en/stable/gallery/spatial_joins.html) \n",
    "in `geopandas`. After joining the two datasets, you should be \n",
    "able to find the area_number for each `station_id`.\n",
    "\"\"\"\n",
    "\n",
    "station_community_df = None\n"
   ]
  },
  {
   "cell_type": "markdown",
   "metadata": {},
   "source": [
    "### Add Community Areas to Trips (4 points)"
   ]
  },
  {
   "cell_type": "code",
   "execution_count": null,
   "metadata": {},
   "outputs": [],
   "source": [
    "\"\"\"\n",
    "TODO:\n",
    "Use the updated dataframe from the previous part with the bike trip dataset to add \n",
    "columns specifying the start and end community area numbers (`start_ca_num` and \n",
    "`end_ca_num`) for each trip. Remove any entries in your final results that have \n",
    "`NaN` values for either `start_ca_num` or `end_ca_num`.Save your results in \n",
    "`trips_community_df`.\n",
    "\"\"\"\n",
    "\n",
    "trips_community_df = None\n"
   ]
  },
  {
   "cell_type": "markdown",
   "metadata": {},
   "source": [
    "### Explaining the Joins (2 points)\n",
    "\n",
    "In a short (no more than a paragraph) description, please briefly answer the following inquiries. You can write either in Markdown or in code comments in the space provided in the notebook file.\n",
    "   \n",
    "1. For each join conducted in steps 1 and 2, what was your rationale for using these particular join types? \n",
    "2. Did your final `trips_community_df` end up a different size from the original `trips_pr_df` dataframe? If so, what do you think caused this difference in size?"
   ]
  },
  {
   "cell_type": "code",
   "execution_count": null,
   "metadata": {},
   "outputs": [],
   "source": [
    "\"\"\"\n",
    "OPTIONAL: \n",
    "Use this space for either your answers for the above prompt or to run additional code.\n",
    "\"\"\"\n"
   ]
  },
  {
   "cell_type": "markdown",
   "metadata": {},
   "source": [
    "### Visualize Station Distribution (4 points)"
   ]
  },
  {
   "cell_type": "code",
   "execution_count": null,
   "metadata": {},
   "outputs": [],
   "source": [
    "\"\"\"\n",
    "TODO:\n",
    "We want to understand which community areas have bike stations. Using `geopandas`, \n",
    "generate a plot of the number of stations per community area. This can be \n",
    "accomplished by aggregating the stations by community area. Then use the `plot()` \n",
    "command to generate a chloropleth map. You are allowed to define a colormap for \n",
    "your chloropleth map via the `cmap` parameter.\n",
    "\"\"\"\n",
    "\n"
   ]
  }
 ],
 "metadata": {
  "colab": {
   "provenance": []
  },
  "kernelspec": {
   "display_name": "Python 3 (ipykernel)",
   "language": "python",
   "name": "python3"
  },
  "language_info": {
   "codemirror_mode": {
    "name": "ipython",
    "version": 3
   },
   "file_extension": ".py",
   "mimetype": "text/x-python",
   "name": "python",
   "nbconvert_exporter": "python",
   "pygments_lexer": "ipython3",
   "version": "3.11.5"
  }
 },
 "nbformat": 4,
 "nbformat_minor": 1
}
