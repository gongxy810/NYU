{
 "cells": [
  {
   "cell_type": "code",
   "execution_count": null,
   "metadata": {},
   "outputs": [],
   "source": [
    "import numpy as np\n",
    "import pandas as pd"
   ]
  },
  {
   "cell_type": "markdown",
   "metadata": {},
   "source": [
    "### Numpy\n",
    "\n",
    "Quickstart tutorial: https://numpy.org/doc/stable/user/quickstart.html"
   ]
  },
  {
   "cell_type": "markdown",
   "metadata": {},
   "source": [
    "NumPy’s main object is the homogeneous multidimensional array. It is a table of elements (usually numbers), all of the same type, indexed by a tuple of positive integers. In NumPy dimensions are called axes. The number of axes is rank."
   ]
  },
  {
   "cell_type": "code",
   "execution_count": null,
   "metadata": {},
   "outputs": [],
   "source": [
    "# create a 2 (row) x 3 (column) array from a list of lists. Type can be specified or inferred.\n",
    "a=np.asarray([[1,2.5,3],[4,5,6]],dtype='float32')\n",
    "print(a)\n",
    "print(a.ndim)\n",
    "print(a.shape)\n",
    "\n",
    "print()\n",
    "\n",
    "# a's transpose is a 3 x 2 array. The value of a is not changed by this.\n",
    "aT = a.transpose()\n",
    "print(aT)\n",
    "print(aT.ndim)\n",
    "print(aT.shape)"
   ]
  },
  {
   "cell_type": "code",
   "execution_count": null,
   "metadata": {},
   "outputs": [],
   "source": [
    "a.dtype"
   ]
  },
  {
   "cell_type": "code",
   "execution_count": null,
   "metadata": {},
   "outputs": [],
   "source": [
    "# Example of inferred type.  Here it assumes that these are integers... \n",
    "np.asarray([1,2]).dtype"
   ]
  },
  {
   "cell_type": "code",
   "execution_count": null,
   "metadata": {},
   "outputs": [],
   "source": [
    "# ... unless you specify otherwise\n",
    "np.asarray([1,2],dtype=\"complex\")"
   ]
  },
  {
   "cell_type": "code",
   "execution_count": null,
   "metadata": {},
   "outputs": [],
   "source": [
    "# exponential and logarithm (base e)\n",
    "print(np.exp(1))\n",
    "print(np.log(np.exp(1)))"
   ]
  },
  {
   "cell_type": "code",
   "execution_count": null,
   "metadata": {},
   "outputs": [],
   "source": [
    "# built-in constants\n",
    "np.pi"
   ]
  },
  {
   "cell_type": "code",
   "execution_count": null,
   "metadata": {},
   "outputs": [],
   "source": [
    "# generate an m x n array of random numbers, uniform on [0,1]\n",
    "np.random.rand(4,2)"
   ]
  },
  {
   "cell_type": "code",
   "execution_count": null,
   "metadata": {},
   "outputs": [],
   "source": [
    "# standard trigonmetric operations\n",
    "np.sin(np.pi/2)"
   ]
  },
  {
   "cell_type": "code",
   "execution_count": null,
   "metadata": {},
   "outputs": [],
   "source": [
    "# generate a uniformly spaced 1-D array (start,end,number of elements)\n",
    "# notice that both endpoints are included by default\n",
    "np.linspace(0,2,9)"
   ]
  },
  {
   "cell_type": "code",
   "execution_count": null,
   "metadata": {},
   "outputs": [],
   "source": [
    "# same idea, but take base to that power\n",
    "# again, both endpoints are included by default\n",
    "np.logspace(0,2,9,base=10)"
   ]
  },
  {
   "cell_type": "code",
   "execution_count": null,
   "metadata": {},
   "outputs": [],
   "source": [
    "# array of ones (input is a tuple of dimensions)\n",
    "np.ones((2,3))"
   ]
  },
  {
   "cell_type": "code",
   "execution_count": null,
   "metadata": {},
   "outputs": [],
   "source": [
    "# element-wise operations\n",
    "\n",
    "# add or multiply two matrices elementwise; returns ValueError if sizes do not match\n",
    "print(np.ones((2,3))+np.ones((2,3)))\n",
    "print()\n",
    "print(np.ones((2,3))*np.ones((2,3)))\n",
    "print()\n",
    "\n",
    "# casts the constant into an appropriately sized matrix\n",
    "print(np.ones((2,3))+1)\n",
    "print()\n",
    "\n",
    "print(np.ones((2,3))*5)"
   ]
  },
  {
   "cell_type": "code",
   "execution_count": null,
   "metadata": {},
   "outputs": [],
   "source": [
    "# comparison operation is also performed element-wise; can compare to constant\n",
    "np.random.rand(5,5) > 0.8"
   ]
  },
  {
   "cell_type": "code",
   "execution_count": null,
   "metadata": {},
   "outputs": [],
   "source": [
    "# again, sin is performed element-wise\n",
    "np.sin(np.random.rand(2,2))"
   ]
  },
  {
   "cell_type": "code",
   "execution_count": null,
   "metadata": {},
   "outputs": [],
   "source": [
    "# So is division.  Vector is cast into matrix with appropriate number of rows  \n",
    "print(np.asarray([0.1,0.2]))\n",
    "print()\n",
    "print(np.ones((2,2))/np.asarray([0.1,0.2]))"
   ]
  },
  {
   "cell_type": "code",
   "execution_count": null,
   "metadata": {},
   "outputs": [],
   "source": [
    "# The new shape should be compatible with the original shape. \n",
    "# If an integer, then the result will be a 1-D array of that length. \n",
    "# One shape dimension can be -1. In this case, the value is inferred from the length of the array and remaining dimension\n",
    "print(np.asarray([0.1,0.2]).reshape(-1,1))\n",
    "print()\n",
    "print(np.ones((2,2))/np.asarray([0.1,0.2]).reshape(-1,1))"
   ]
  },
  {
   "cell_type": "code",
   "execution_count": null,
   "metadata": {},
   "outputs": [],
   "source": [
    "q = np.ones((2,2))/np.asarray([0.1,0.2]).reshape(-1,1)\n",
    "\n",
    "# min of each column\n",
    "print(q.min(axis=0))\n",
    "\n",
    "# min of each row\n",
    "print(q.min(axis=1))\n"
   ]
  },
  {
   "cell_type": "code",
   "execution_count": null,
   "metadata": {},
   "outputs": [],
   "source": [
    "tmp=np.ones((3,3))*2\n",
    "tmp"
   ]
  },
  {
   "cell_type": "code",
   "execution_count": null,
   "metadata": {},
   "outputs": [],
   "source": [
    "tmp.cumsum(axis=0)"
   ]
  },
  {
   "cell_type": "code",
   "execution_count": null,
   "metadata": {},
   "outputs": [],
   "source": [
    "tmp.cumprod(axis=1)"
   ]
  },
  {
   "cell_type": "code",
   "execution_count": null,
   "metadata": {},
   "outputs": [],
   "source": [
    "# reshape into 1-D vector\n",
    "tmp.reshape(-1)"
   ]
  },
  {
   "cell_type": "code",
   "execution_count": null,
   "metadata": {},
   "outputs": [],
   "source": [
    "# turn a 4 x 4 into a 2 x 2 x 2 x 2\n",
    "np.random.rand(4,4).reshape((2,2,2,2))"
   ]
  },
  {
   "cell_type": "code",
   "execution_count": null,
   "metadata": {},
   "outputs": [],
   "source": [
    "# selection of elements from array\n",
    "tmp= np.random.rand(4,4)\n",
    "print(tmp)\n",
    "print()\n",
    "print(tmp.reshape(-1)[np.asarray([2,3,4,5])])"
   ]
  },
  {
   "cell_type": "code",
   "execution_count": null,
   "metadata": {},
   "outputs": [],
   "source": [
    "# slice\n",
    "tmp[1:4,1:3]"
   ]
  },
  {
   "cell_type": "code",
   "execution_count": null,
   "metadata": {},
   "outputs": [],
   "source": [
    "# pick out all elements satisfying condition as 1-D array\n",
    "tmp[tmp>0.5]"
   ]
  },
  {
   "cell_type": "code",
   "execution_count": null,
   "metadata": {},
   "outputs": [],
   "source": [
    "# pick out rows where first element is >0.5\n",
    "tmp[tmp[:,0]>0.5,:]"
   ]
  },
  {
   "cell_type": "code",
   "execution_count": null,
   "metadata": {},
   "outputs": [],
   "source": [
    "tmp"
   ]
  },
  {
   "cell_type": "code",
   "execution_count": null,
   "metadata": {},
   "outputs": [],
   "source": [
    "# Assign values to a subset of array elements.  Note that this happens in place (i.e., the value of tmp is changed)\n",
    "tmp.reshape(-1)[[1,2,3,4]]=0"
   ]
  },
  {
   "cell_type": "code",
   "execution_count": null,
   "metadata": {},
   "outputs": [],
   "source": [
    "tmp"
   ]
  },
  {
   "cell_type": "code",
   "execution_count": null,
   "metadata": {},
   "outputs": [],
   "source": [
    "# Linear Algebra\n",
    "a = np.array([[1.0, 2.0], [3.0, 4.0]])"
   ]
  },
  {
   "cell_type": "code",
   "execution_count": null,
   "metadata": {},
   "outputs": [],
   "source": [
    "# element-wise\n",
    "a*a"
   ]
  },
  {
   "cell_type": "code",
   "execution_count": null,
   "metadata": {},
   "outputs": [],
   "source": [
    "# element-wise\n",
    "a/a"
   ]
  },
  {
   "cell_type": "code",
   "execution_count": null,
   "metadata": {},
   "outputs": [],
   "source": [
    "# Standard matrix multiplication.  Not element-wise!\n",
    "np.dot(a,a)"
   ]
  },
  {
   "cell_type": "code",
   "execution_count": null,
   "metadata": {},
   "outputs": [],
   "source": [
    "np.eye(2)"
   ]
  },
  {
   "cell_type": "code",
   "execution_count": null,
   "metadata": {},
   "outputs": [],
   "source": [
    "print(a)\n",
    "np.trace(a)"
   ]
  },
  {
   "cell_type": "markdown",
   "metadata": {},
   "source": [
    "### Pandas \n",
    "\n",
    "10 Minutes to pandas: http://pandas.pydata.org/pandas-docs/stable/10min.html\n",
    "\n"
   ]
  },
  {
   "cell_type": "code",
   "execution_count": null,
   "metadata": {},
   "outputs": [],
   "source": [
    "# Object Creation:\n",
    "\n",
    "# series\n",
    "s = pd.Series([1,3,5,np.nan,6,8])\n",
    "\n",
    "# dataframe\n",
    "dates = pd.date_range('20240101', periods=6)\n",
    "df = pd.DataFrame(np.random.randn(6,4), index=dates, columns=list('ABCD'))"
   ]
  },
  {
   "cell_type": "code",
   "execution_count": null,
   "metadata": {},
   "outputs": [],
   "source": [
    "s"
   ]
  },
  {
   "cell_type": "code",
   "execution_count": null,
   "metadata": {},
   "outputs": [],
   "source": [
    "df"
   ]
  },
  {
   "cell_type": "code",
   "execution_count": null,
   "metadata": {},
   "outputs": [],
   "source": [
    "df2 = pd.DataFrame({ 'A' : 1.,\n",
    "   ....:                      'B' : pd.Timestamp('20240102'),\n",
    "   ....:                      'C' : pd.Series(1,index=list(range(4)),dtype='float32'),\n",
    "   ....:                      'D' : np.array([3] * 4,dtype='int32'),\n",
    "   ....:                      'E' : pd.Categorical([\"test\",\"train\",\"test\",\"train\"]),\n",
    "   ....:                      'F' : 'foo' })\n",
    "df2"
   ]
  },
  {
   "cell_type": "code",
   "execution_count": null,
   "metadata": {},
   "outputs": [],
   "source": [
    "#Viewing Data\n",
    "df.head(2)"
   ]
  },
  {
   "cell_type": "code",
   "execution_count": null,
   "metadata": {},
   "outputs": [],
   "source": [
    "df.index"
   ]
  },
  {
   "cell_type": "code",
   "execution_count": null,
   "metadata": {},
   "outputs": [],
   "source": [
    "df.columns"
   ]
  },
  {
   "cell_type": "code",
   "execution_count": null,
   "metadata": {},
   "outputs": [],
   "source": [
    "# Sorting\n",
    "print(df)\n",
    "print()\n",
    "\n",
    "# these operations do not change the value of df\n",
    "\n",
    "# sort rows by index\n",
    "print(df.sort_index(axis=0, ascending=False)) \n",
    "print()\n",
    "\n",
    "# sort columns by column header\n",
    "print(df.sort_index(axis=1, ascending=False))"
   ]
  },
  {
   "cell_type": "code",
   "execution_count": null,
   "metadata": {},
   "outputs": [],
   "source": [
    "print(df)\n",
    "print()\n",
    "\n",
    "# sort rows using values in a particular column\n",
    "print(df.sort_values(by='B')) # axis defaults to 0\n",
    "print()\n",
    "\n",
    "# sort columns using values corresponding to a particular row index\n",
    "print(df.sort_values(axis=1,by='2024-01-03'))"
   ]
  },
  {
   "cell_type": "code",
   "execution_count": null,
   "metadata": {},
   "outputs": [],
   "source": [
    "# Descriptive statistics of each column\n",
    "df.describe()"
   ]
  },
  {
   "cell_type": "code",
   "execution_count": null,
   "metadata": {},
   "outputs": [],
   "source": [
    "# Selection\n",
    "\n",
    "# select a particular column (with row index) \n",
    "df['A']"
   ]
  },
  {
   "cell_type": "code",
   "execution_count": null,
   "metadata": {},
   "outputs": [],
   "source": [
    "# select rows by slicing\n",
    "print(df[1:3])\n",
    "print()\n",
    "\n",
    "# equivalent but more flexible; select rows by integer positions\n",
    "print(df.iloc[1:3,:])\n",
    "print()\n",
    "\n",
    "# subsets of rows and columns, can slice or list\n",
    "print(df.iloc[1:3,[1,3]])"
   ]
  },
  {
   "cell_type": "code",
   "execution_count": null,
   "metadata": {},
   "outputs": [],
   "source": [
    "# select rows or columns by value\n",
    "df.loc[dates[0]] # equivalent to df.loc['2013-01-01']"
   ]
  },
  {
   "cell_type": "code",
   "execution_count": null,
   "metadata": {},
   "outputs": [],
   "source": [
    "# can select row and column values\n",
    "df.loc[:,['A','C']]"
   ]
  },
  {
   "cell_type": "code",
   "execution_count": null,
   "metadata": {},
   "outputs": [],
   "source": [
    "# note that the end value is included for loc...\n",
    "df.loc['20240102':'20240104',['A','B']]"
   ]
  },
  {
   "cell_type": "code",
   "execution_count": null,
   "metadata": {},
   "outputs": [],
   "source": [
    "# ... but not for iloc\n",
    "df.iloc[1:4,0:2]"
   ]
  },
  {
   "cell_type": "code",
   "execution_count": null,
   "metadata": {},
   "outputs": [],
   "source": [
    "# Boolean Indexing\n",
    "\n",
    "# select all rows where a condition is met\n",
    "df[df.A > 0]"
   ]
  },
  {
   "cell_type": "code",
   "execution_count": null,
   "metadata": {},
   "outputs": [],
   "source": [
    "# Filling in missing values\n",
    "df1 = df.reindex(index=dates[0:4], columns=list(df.columns) + ['E'])\n",
    "df1.loc[dates[1]:dates[2],'E'] = 1\n",
    "df1.loc[[dates[0],dates[3]],'E'] = 2"
   ]
  },
  {
   "cell_type": "code",
   "execution_count": null,
   "metadata": {},
   "outputs": [],
   "source": [
    "df1"
   ]
  },
  {
   "cell_type": "code",
   "execution_count": null,
   "metadata": {},
   "outputs": [],
   "source": [
    "# Dropping rows with any missing values\n",
    "df1 = df.reindex(index=dates[0:4], columns=list(df.columns) + ['E'])\n",
    "df1.loc[dates[1]:dates[2],'E'] = 1\n",
    "print(df1)\n",
    "print()\n",
    "print(df1.dropna(how='any'))"
   ]
  },
  {
   "cell_type": "code",
   "execution_count": null,
   "metadata": {},
   "outputs": [],
   "source": [
    "# Fill in all missing values with a given value\n",
    "df1 = df.reindex(index=dates[0:4], columns=list(df.columns) + ['E'])\n",
    "df1.loc[dates[1]:dates[2],'E'] = 1\n",
    "df1.fillna(value=5)"
   ]
  },
  {
   "cell_type": "code",
   "execution_count": null,
   "metadata": {},
   "outputs": [],
   "source": [
    "# element-wise: is each value missing?\n",
    "print(df1)\n",
    "print()\n",
    "pd.isnull(df1)"
   ]
  },
  {
   "cell_type": "code",
   "execution_count": null,
   "metadata": {},
   "outputs": [],
   "source": [
    "# Apply an operation to each column (e.g., sum across all rows for that column)\n",
    "print(df)\n",
    "print()\n",
    "df.apply(sum,axis=0)"
   ]
  },
  {
   "cell_type": "code",
   "execution_count": null,
   "metadata": {},
   "outputs": [],
   "source": [
    "# Apply an operation to each row (e.g., sum across all columns for that row)\n",
    "df.apply(sum,axis=1)"
   ]
  },
  {
   "cell_type": "code",
   "execution_count": null,
   "metadata": {},
   "outputs": [],
   "source": [
    "# Apply an operation element-wise\n",
    "df.applymap(lambda x: x*1000)"
   ]
  },
  {
   "cell_type": "code",
   "execution_count": null,
   "metadata": {},
   "outputs": [],
   "source": [
    "df3 = df\n",
    "df3['E'] = 'hello'\n",
    "df3*1000"
   ]
  },
  {
   "cell_type": "code",
   "execution_count": null,
   "metadata": {},
   "outputs": [],
   "source": [
    "#Concat, Join, Append.\n",
    "\n",
    "# concatenate rows together\n",
    "df = pd.DataFrame(np.random.randn(10, 4))\n",
    "print(df)\n",
    "print()\n",
    "\n",
    "pieces = [df[:2], df[5:7], df[8:]]\n",
    "print(pd.concat(pieces))\n",
    "print()\n",
    "\n",
    "# concatenate columns together\n",
    "pieces = [df.iloc[:,0:2], df.iloc[:,3]]\n",
    "print(pd.concat(pieces,axis=1))\n",
    "print()\n"
   ]
  },
  {
   "cell_type": "code",
   "execution_count": null,
   "metadata": {},
   "outputs": [],
   "source": [
    "x = pd.DataFrame({'key': ['B', 'A'], 'xval': [2, 1]})\n",
    "y = pd.DataFrame({'key': ['A', 'B','C'], 'yval': [4, 5,6]})\n",
    "print(x)\n",
    "print()\n",
    "print(y)"
   ]
  },
  {
   "cell_type": "code",
   "execution_count": null,
   "metadata": {},
   "outputs": [],
   "source": [
    "print(y.merge(x,left_on=\"key\",right_on=\"key\",how=\"left\"))\n",
    "print()\n",
    "print(x.merge(y,left_on=\"key\",right_on=\"key\",how=\"left\"))\n",
    "print()\n",
    "print(x.merge(y,left_on=\"key\",right_on=\"key\",how=\"right\"))"
   ]
  },
  {
   "cell_type": "code",
   "execution_count": null,
   "metadata": {},
   "outputs": [],
   "source": [
    "# Append\n",
    "print(y.append(x, ignore_index=True)) # deprecated\n",
    "print()\n",
    "print(pd.concat([y,x],ignore_index=True))"
   ]
  },
  {
   "cell_type": "code",
   "execution_count": null,
   "metadata": {},
   "outputs": [],
   "source": [
    "# Grouping\n",
    "df = pd.DataFrame({'A' : ['foo', 'bar', 'foo', 'bar','foo', 'bar', 'foo', 'foo'],'B' : ['one', 'one', 'two', 'three','two', 'two', 'one', 'three'],\n",
    "'C' : np.random.randn(8),'D' : np.random.randn(8)})\n",
    "df"
   ]
  },
  {
   "cell_type": "code",
   "execution_count": null,
   "metadata": {},
   "outputs": [],
   "source": [
    "df.groupby(\"A\").apply(lambda x: x.loc[:,\"D\"].sum())"
   ]
  },
  {
   "cell_type": "code",
   "execution_count": null,
   "metadata": {},
   "outputs": [],
   "source": [
    "tmp=df.groupby(['A','B']).sum()\n",
    "tmp"
   ]
  },
  {
   "cell_type": "code",
   "execution_count": null,
   "metadata": {},
   "outputs": [],
   "source": [
    "# Stack and unstack\n",
    "print(tmp)\n",
    "print()\n",
    "\n",
    "stacked=tmp.stack(level=-1) # -1, i.e., the last column, is the default level\n",
    "print(stacked)\n",
    "print()\n",
    "\n",
    "unstacked = stacked.unstack(level=-1) # -1, i.e., the last column, is the default level\n",
    "print(unstacked)"
   ]
  },
  {
   "cell_type": "markdown",
   "metadata": {},
   "source": [
    "# Sklearn\n",
    "\n",
    "1.Preprocessing.\n",
    "\n",
    "2.Supervised Learning.\n",
    "\n",
    "3.Model selection.\n"
   ]
  },
  {
   "cell_type": "code",
   "execution_count": null,
   "metadata": {},
   "outputs": [],
   "source": [
    "# Check your version and make sure >0.18\n",
    "import sklearn\n",
    "sklearn.__version__"
   ]
  },
  {
   "cell_type": "markdown",
   "metadata": {
    "collapsed": true
   },
   "source": [
    "### 1. Preprocessing."
   ]
  },
  {
   "cell_type": "markdown",
   "metadata": {},
   "source": [
    "#### Scale,  Normalization, Binarization, and so on."
   ]
  },
  {
   "cell_type": "code",
   "execution_count": null,
   "metadata": {},
   "outputs": [],
   "source": [
    "from sklearn import preprocessing"
   ]
  },
  {
   "cell_type": "code",
   "execution_count": null,
   "metadata": {},
   "outputs": [],
   "source": [
    "import numpy as np\n",
    "X = np.array([[ 1., -1.,  2.],\n",
    "               [ 2.,  0.,  0.],\n",
    "             [ 0.,  1., -1.]])\n",
    "X"
   ]
  },
  {
   "cell_type": "code",
   "execution_count": null,
   "metadata": {},
   "outputs": [],
   "source": [
    "# make each column have mean = 0 and std dev = 1\n",
    "X_scaled = preprocessing.scale(X)\n",
    "X_scaled"
   ]
  },
  {
   "cell_type": "code",
   "execution_count": null,
   "metadata": {},
   "outputs": [],
   "source": [
    "X_scaled.mean(axis=0)"
   ]
  },
  {
   "cell_type": "code",
   "execution_count": null,
   "metadata": {},
   "outputs": [],
   "source": [
    "X_scaled.std(axis=0)"
   ]
  },
  {
   "cell_type": "code",
   "execution_count": null,
   "metadata": {},
   "outputs": [],
   "source": [
    "# Equivalently, we could use:\n",
    "(X-X.mean(axis=0))/X.std(axis=0)"
   ]
  },
  {
   "cell_type": "markdown",
   "metadata": {},
   "source": [
    "#### Normalize \n",
    "\n",
    "Normalization is the process of scaling individual samples to have unit norm. This process can be useful if you plan to use a quadratic form such as the dot-product or any other kernel to quantify the similarity of any pair of samples."
   ]
  },
  {
   "cell_type": "code",
   "execution_count": null,
   "metadata": {},
   "outputs": [],
   "source": [
    "print(preprocessing.normalize(X))\n",
    "print()\n",
    "\n",
    "# alternatively, we could manually compute:\n",
    "print(X/np.sqrt((X*X).sum(axis=1)).reshape(-1,1))"
   ]
  },
  {
   "cell_type": "markdown",
   "metadata": {},
   "source": [
    "Sklearn has a ton of methods implemented, many of which we will see later in the course!\n",
    "\n",
    "### Supervised Learning \n",
    "\n",
    "(Regression/Classification)\n",
    "\n",
    "Linear Models (Ordinary Least Squares, Logistic Regression, Lasso and Ridge...)\n",
    "\n",
    "Kernel regression\n",
    "\n",
    "SVM\n",
    "\n",
    "Gaussian Processes\n",
    "\n",
    "Decision Trees and Random Forests (next class)\n",
    "\n",
    "Naive Bayes\n",
    "\n",
    "Supervised Neural Network models (incl. Deep Learning)\n",
    "\n",
    "### Unsupervised Learning\n",
    "\n",
    "Clustering.\n",
    "\n",
    "Dimension Reduction.\n",
    "\n",
    "Representation in Neural Networks such as RBM"
   ]
  },
  {
   "cell_type": "markdown",
   "metadata": {},
   "source": [
    "### Tips: How to use packages from sklearn.\n",
    "\n",
    "Step one: What is the problem we want to solve and what is the model we want to fit. \n",
    "\n",
    "Step two: What are the hyper-parameters related to model structure.\n",
    "\n",
    "Step three: What are the inputs dataframe and what are the parameters we want to tune.\n",
    "\n",
    "Step four: What are hyper-parameters for training process. (learning rate, iteration max...)\n",
    "\n",
    "Step five: What are the outputs and tuned parameters."
   ]
  },
  {
   "cell_type": "code",
   "execution_count": null,
   "metadata": {},
   "outputs": [],
   "source": []
  }
 ],
 "metadata": {
  "anaconda-cloud": {},
  "kernelspec": {
   "display_name": "Python 3",
   "language": "python",
   "name": "python3"
  },
  "language_info": {
   "codemirror_mode": {
    "name": "ipython",
    "version": 3
   },
   "file_extension": ".py",
   "mimetype": "text/x-python",
   "name": "python",
   "nbconvert_exporter": "python",
   "pygments_lexer": "ipython3",
   "version": "3.8.3"
  }
 },
 "nbformat": 4,
 "nbformat_minor": 2
}
